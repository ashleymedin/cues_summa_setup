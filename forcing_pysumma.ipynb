{
 "cells": [
  {
   "cell_type": "markdown",
   "metadata": {},
   "source": [
    "# Running the CUES SUMMA setup\n",
    "This notebook includes background and instructions on using `pysumma` to interactively run and manipulate SUMMA simulations.\n",
    "The example SUMMA setup included is for the CUES Snow Science Laboratory, a site located in the Sierra Nevada mountains.\n",
    "For more information about the CUES site, [visit their website](https://snow.ucsb.edu/). \n",
    "To begin, we have to regionalize the paths in the configuration files that SUMMA will use.\n",
    "This is accomplished by running a shell command. This is done by starting a line with the `!` operator.\n",
    "We simply run a script to complete the installation.\n",
    "Then, we can import some basic libraries along with `pysumma`.\n",
    "The `%pylab inline` magic command simply imports some standard scientific packages such as `numpy` and `matplotlib`."
   ]
  },
  {
   "cell_type": "code",
   "execution_count": 1,
   "metadata": {},
   "outputs": [],
   "source": [
    "! ./install_local_setup.sh"
   ]
  },
  {
   "cell_type": "code",
   "execution_count": 2,
   "metadata": {},
   "outputs": [
    {
     "name": "stdout",
     "output_type": "stream",
     "text": [
      "Populating the interactive namespace from numpy and matplotlib\n"
     ]
    }
   ],
   "source": [
    "%pylab inline\n",
    "import pysumma as ps\n",
    "import xarray as xr"
   ]
  },
  {
   "cell_type": "markdown",
   "metadata": {},
   "source": [
    "<br>\n",
    "\n",
    "# Interacting with SUMMA via the `Simulation` object\n",
    "## Instantiating a `Simulation` object\n",
    "\n",
    "To set up a `Simulation` object you must supply 2 pieces of information. \n",
    "\n",
    "First, the SUMMA executable; this could be either the compiled executable on your local machine, or a docker image. \n",
    "For this case, I'll assume that `summa.exe` is on your path. \n",
    "See the commented out `executable` for example of how you could also define the docker image. \n",
    "The string for the docker image simply came from looking at the output of the `docker images` command.\n",
    "\n",
    "The second piece of information is the path to the file manager, which we just created through the install script.\n",
    "To create the `Simulation` object you can then just pass these to the constructor as shown below."
   ]
  },
  {
   "cell_type": "code",
   "execution_count": 3,
   "metadata": {},
   "outputs": [],
   "source": [
    "executable = 'summa.exe'\n",
    "#executable = 'docker.io/bartnijssen/summa:develop'\n",
    "file_manager = './file_manager.txt'\n",
    "\n",
    "s = ps.Simulation(executable, file_manager)"
   ]
  },
  {
   "cell_type": "markdown",
   "metadata": {},
   "source": [
    "<br>\n",
    "\n",
    "## Manipulating the configuration of the simulation object\n",
    "\n",
    "Most of your interactions with pysumma will be facilitated through this `Simulation` object, so let's take some time to look through what is in it. \n",
    "What's contained in the `Simulation` object right after instantiation is generally just the input required for a SUMMA run.\n",
    "For a more in depth discussion of what these are see the [SUMMA Input](https://summa.readthedocs.io/en/latest/input_output/SUMMA_input/) page of the documentation.\n",
    "There are several attributes of interest that can be examined. \n",
    "To see each of them you can simply `print` them. \n",
    "Here's a very high level overview of what's available:\n",
    "\n",
    "* `s.manager` - the file manager\n",
    "* `s.decisions` - the decisions file\n",
    "* `s.output_control` - defines what variables to write out\n",
    "* `s.force_file_list` - a listing of all of the forcing files to use\n",
    "* `s.local_attributes` - describes GRU/HRU attributes (lat, lon, elevation, etc)\n",
    "* `s.local_param_info` - listing of spatially constant local (HRU) parameter values\n",
    "* `s.basin_param_info` - listing of spatially constant basin (GRU) parameter values\n",
    "* `s.parameter_trial` - spatially distributed parameter values (will overwrite `local_param_info` values, can be either HRU or GRU)\n",
    "\n",
    "Most of these objects have a similar interface defined, with exceptions being `local_attributes` and `parameter_trial`. Those two are standard `xarray` datasets. All others follow the simple API:\n",
    "\n",
    "```\n",
    "print(x)                   # Show the data as SUMMA reads it\n",
    "x.get_option(NAME)         # Get an option\n",
    "x.set_option(NAME, VALUE)  # Change an option\n",
    "x.remove_option(NAME)      # Remove an option\n",
    "```\n",
    "\n",
    "More intuitively, you can use `key` - `value` type indexing like dictionaries, dataframes, and datasets:\n",
    "\n",
    "```\n",
    "print(x['key'])    # Get an option\n",
    "x['key'] = value   # Change an option\n",
    "```"
   ]
  },
  {
   "cell_type": "markdown",
   "metadata": {},
   "source": [
    "### Setting decisions\n",
    "\n",
    "So, now that we've got a handle on what's available and what you can do with it, let's actually try some of this out. First let's just print out our decisions file so we can see what's in the defaults.\n"
   ]
  },
  {
   "cell_type": "code",
   "execution_count": 4,
   "metadata": {},
   "outputs": [
    {
     "name": "stdout",
     "output_type": "stream",
     "text": [
      "simulStart    '2010-10-01 00:00'   ! simulation start time\n",
      "simulFinsh    '2019-03-30 23:00'   ! simulation end time\n",
      "tmZoneInfo    localTime            ! time zone information\n",
      "soilCatTbl    ROSETTA              ! soil-category dataset\n",
      "vegeParTbl    MODIFIED_IGBP_MODIS_NOAH ! vegetation-category dataset\n",
      "soilStress    NoahType             ! choice of function for the soil moisture control on stomatal resistance\n",
      "stomResist    BallBerry            ! choice of function for stomatal resistance\n",
      "num_method    itertive             ! choice of numerical method\n",
      "fDerivMeth    analytic             ! choice of method to calculate flux derivatives\n",
      "LAI_method    monTable             ! choice of method to determine LAI and SAI\n",
      "f_Richards    mixdform             ! form of Richards equation\n",
      "groundwatr    qTopmodl             ! choice of groundwater parameterization\n",
      "hc_profile    pow_prof             ! choice of hydraulic conductivity profile\n",
      "bcUpprTdyn    nrg_flux             ! type of upper boundary condition for thermodynamics\n",
      "bcLowrTdyn    zeroFlux             ! type of lower boundary condition for thermodynamics\n",
      "bcUpprSoiH    liq_flux             ! type of upper boundary condition for soil hydrology\n",
      "bcLowrSoiH    zeroFlux             ! type of lower boundary condition for soil hydrology\n",
      "veg_traits    CM_QJRMS1988         ! choice of parameterization for vegetation roughness length and displacement height\n",
      "rootProfil    powerLaw             ! choice of parameterization for the rooting profile\n",
      "canopyEmis    difTrans             ! choice of parameterization for canopy emissivity\n",
      "snowIncept    lightSnow            ! choice of parameterization for snow interception\n",
      "windPrfile    logBelowCanopy       ! choice of canopy wind profile\n",
      "astability    louisinv             ! choice of stability function\n",
      "canopySrad    BeersLaw             ! choice of method for canopy shortwave radiation\n",
      "alb_method    varDecay             ! choice of albedo representation\n",
      "compaction    anderson             ! choice of compaction routine\n",
      "snowLayers    CLM_2010             ! choice of method to combine and sub-divide snow layers\n",
      "thCondSnow    jrdn1991             ! choice of thermal conductivity representation for snow\n",
      "thCondSoil    funcSoilWet          ! choice of thermal conductivity representation for soil\n",
      "spatial_gw    localColumn          ! choice of method for spatial representation of groundwater\n",
      "subRouting    qInstant             ! choice of method for sub-grid routing\n"
     ]
    }
   ],
   "source": [
    "print(s.decisions)"
   ]
  },
  {
   "cell_type": "markdown",
   "metadata": {},
   "source": [
    "<br> \n",
    "\n",
    "Great, we can see what's in there. But to be able to change anything we need to know the available options for each decision. Let's look at how to do that. For arbitrary reasons we will look at the `snowIncept` option, which describes the parameterization for snow interception in the canopy. First we will get it from the `decisions` object directly, and then query what it can be changed to, then finally change the value to something else.\n",
    "\n",
    "<br>"
   ]
  },
  {
   "cell_type": "code",
   "execution_count": 5,
   "metadata": {},
   "outputs": [
    {
     "name": "stdout",
     "output_type": "stream",
     "text": [
      "snowIncept    lightSnow            ! choice of parameterization for snow interception\n",
      "['stickySnow', 'lightSnow']\n",
      "snowIncept    stickySnow           ! choice of parameterization for snow interception\n"
     ]
    }
   ],
   "source": [
    "# Get just the `snowIncept` option\n",
    "print(s.decisions['snowIncept'])\n",
    "\n",
    "# Look at what we can set it to\n",
    "print(s.decisions['snowIncept'].available_options)\n",
    "\n",
    "# Change the value \n",
    "s.decisions['snowIncept'] = 'stickySnow'\n",
    "print(s.decisions['snowIncept'])"
   ]
  },
  {
   "cell_type": "markdown",
   "metadata": {},
   "source": [
    "<br>\n",
    "\n",
    "### Changing parameters\n",
    "\n",
    "Much like the decisions we can manipulate the `local_param_info` file. First, let's look at what's contained in it"
   ]
  },
  {
   "cell_type": "code",
   "execution_count": 6,
   "metadata": {},
   "outputs": [
    {
     "name": "stdout",
     "output_type": "stream",
     "text": [
      "upperBoundHead            |      -7.5d-1 |      -1.0d+2 |      -1.0d-2\n",
      "lowerBoundHead            |      -1.0d+1 |      -1.0d+2 |      -1.0d-2\n",
      "upperBoundTheta           |       0.2004 |       0.1020 |       0.3680\n",
      "lowerBoundTheta           |       0.1100 |       0.1020 |       0.3680\n",
      "upperBoundTemp            |     272.1600 |     270.1600 |     280.1600\n",
      "lowerBoundTemp            |     274.1600 |     270.1600 |     280.1600\n",
      "tempCritRain              |     273.1600 |     272.1600 |     274.1600\n",
      "tempRangeTimestep         |       2.0000 |       0.5000 |       5.0000\n",
      "frozenPrecipMultip        |       1.0000 |       0.5000 |       1.5000\n",
      "snowfrz_scale             |      50.0000 |      10.0000 |    1000.0000\n",
      "fixedThermalCond_snow     |       0.3500 |       0.1000 |       1.0000\n",
      "albedoMax                 |       0.9400 |       0.7000 |       0.9500\n",
      "albedoMinWinter           |       0.5500 |       0.6000 |       1.0000\n",
      "albedoMinSpring           |       0.5500 |       0.3000 |       1.0000\n",
      "albedoMaxVisible          |       0.9500 |       0.7000 |       0.9500\n",
      "albedoMinVisible          |       0.7500 |       0.5000 |       0.7500\n",
      "albedoMaxNearIR           |       0.6500 |       0.5000 |       0.7500\n",
      "albedoMinNearIR           |       0.3000 |       0.1500 |       0.4500\n",
      "albedoDecayRate           |       1.0d+6 |       1.0d+5 |       5.0d+6\n",
      "albedoSootLoad            |       0.3000 |       0.1000 |       0.5000\n",
      "albedoRefresh             |       1.0000 |       1.0000 |      10.0000\n",
      "radExt_snow               |      20.0000 |      20.0000 |      20.0000\n",
      "directScale               |       0.0900 |       0.0000 |       0.5000\n",
      "Frad_direct               |       0.7000 |       0.0000 |       1.0000\n",
      "Frad_vis                  |       0.5000 |       0.0000 |       1.0000\n",
      "newSnowDenMin             |     100.0000 |      50.0000 |     100.0000\n",
      "newSnowDenMult            |     100.0000 |      25.0000 |      75.0000\n",
      "newSnowDenScal            |       5.0000 |       1.0000 |       5.0000\n",
      "constSnowDen              |     100.0000 |      50.0000 |     250.0000\n",
      "newSnowDenAdd             |     109.0000 |      80.0000 |     120.0000\n",
      "newSnowDenMultTemp        |       6.0000 |       1.0000 |      12.0000\n",
      "newSnowDenMultWind        |      26.0000 |      16.0000 |      36.0000\n",
      "newSnowDenMultAnd         |       1.0000 |       1.0000 |       3.0000\n",
      "newSnowDenBase            |       0.0000 |       0.0000 |       0.0000\n",
      "densScalGrowth            |       0.0460 |       0.0230 |       0.0920\n",
      "tempScalGrowth            |       0.0400 |       0.0200 |       0.0600\n",
      "grainGrowthRate           |       2.7d-6 |       1.0d-6 |       5.0d-6\n",
      "densScalOvrbdn            |       0.0230 |       0.0115 |       0.0460\n",
      "tempScalOvrbdn            |       0.0800 |       0.6000 |       1.0000\n",
      "baseViscosity             |       9.0d+5 |       5.0d+5 |       1.5d+6\n",
      "Fcapil                    |       0.0600 |       0.0100 |       0.1000\n",
      "k_snow                    |       0.0150 |       0.0050 |       0.0500\n",
      "mw_exp                    |       3.0000 |       1.0000 |       5.0000\n",
      "z0Snow                    |       0.0010 |       0.0010 |      10.0000\n",
      "z0Soil                    |       0.0100 |       0.0010 |      10.0000\n",
      "z0Canopy                  |       0.1000 |       0.0010 |      10.0000\n",
      "zpdFraction               |       0.6500 |       0.5000 |       0.8500\n",
      "critRichNumber            |       9.0000 |       9.0000 |       9.0000\n",
      "Louis79_bparam            |       9.4000 |       9.2000 |       9.6000\n",
      "Louis79_cStar             |       5.3000 |       5.1000 |       5.5000\n",
      "Mahrt87_eScale            |       1.0000 |       0.5000 |       2.0000\n",
      "leafExchangeCoeff         |       0.0250 |       0.0250 |       0.0250\n",
      "windReductionParam        |       0.9500 |       0.9500 |       0.9500\n",
      "Kc25                      |     296.0770 |     296.0770 |     296.0770\n",
      "Ko25                      |       0.2961 |       0.2961 |       0.2961\n",
      "Kc_qFac                   |       2.1000 |       2.1000 |       2.1000\n",
      "Ko_qFac                   |       1.2000 |       1.2000 |       1.2000\n",
      "kc_Ha                     |       7.9d+4 |       7.9d+4 |       7.9d+4\n",
      "ko_Ha                     |       3.6d+4 |       3.6d+4 |       3.6d+4\n",
      "vcmax25_canopyTop         |      40.0000 |      20.0000 |     100.0000\n",
      "vcmax_qFac                |       2.4000 |       2.4000 |       2.4000\n",
      "vcmax_Ha                  |       6.5d+4 |       6.5d+4 |       6.5d+4\n",
      "vcmax_Hd                  |       2.2d+5 |       1.5d+5 |       1.5d+5\n",
      "vcmax_Sv                  |     710.0000 |     485.0000 |     485.0000\n",
      "vcmax_Kn                  |       0.6000 |       0.0000 |       1.2000\n",
      "jmax25_scale              |       2.0000 |       2.0000 |       2.0000\n",
      "jmax_Ha                   |       4.4d+4 |       4.4d+4 |       4.4d+4\n",
      "jmax_Hd                   |       1.5d+5 |       1.5d+5 |       1.5d+5\n",
      "jmax_Sv                   |     495.0000 |     495.0000 |     495.0000\n",
      "fractionJ                 |       0.1500 |       0.1500 |       0.1500\n",
      "quantamYield              |       0.0500 |       0.0500 |       0.0500\n",
      "vpScaleFactor             |    1500.0000 |    1500.0000 |    1500.0000\n",
      "cond2photo_slope          |       9.0000 |       1.0000 |      10.0000\n",
      "minStomatalConductance    |    2000.0000 |    2000.0000 |    2000.0000\n",
      "winterSAI                 |       1.0000 |       0.0100 |       3.0000\n",
      "summerLAI                 |       3.0000 |       0.0100 |      10.0000\n",
      "rootScaleFactor1          |       2.0000 |       1.0000 |      10.0000\n",
      "rootScaleFactor2          |       5.0000 |       1.0000 |      10.0000\n",
      "rootingDepth              |       0.5000 |       0.0100 |      10.0000\n",
      "rootDistExp               |       1.0000 |       0.0100 |       1.0000\n",
      "plantWiltPsi              |      -1.5d+2 |      -5.0d+2 |       0.0000\n",
      "soilStressParam           |       5.8000 |       4.3600 |       6.3700\n",
      "critSoilWilting           |       0.0750 |       0.0000 |       1.0000\n",
      "critSoilTranspire         |       0.1750 |       0.0000 |       1.0000\n",
      "critAquiferTranspire      |       0.2000 |       0.1000 |      10.0000\n",
      "minStomatalResistance     |      50.0000 |      10.0000 |     200.0000\n",
      "leafDimension             |       0.0400 |       0.0100 |       0.1000\n",
      "heightCanopyTop           |      20.0000 |       0.0500 |     100.0000\n",
      "heightCanopyBottom        |       2.0000 |       0.0000 |       5.0000\n",
      "specificHeatVeg           |     874.0000 |     500.0000 |    1500.0000\n",
      "maxMassVegetation         |      25.0000 |       1.0000 |      50.0000\n",
      "throughfallScaleSnow      |       0.5000 |       0.1000 |       0.9000\n",
      "throughfallScaleRain      |       0.5000 |       0.1000 |       0.9000\n",
      "refInterceptCapSnow       |       6.6000 |       1.0000 |      10.0000\n",
      "refInterceptCapRain       |       1.0000 |       0.0100 |       1.0000\n",
      "snowUnloadingCoeff        |       0.0000 |       0.0000 |       1.5d-6\n",
      "canopyDrainageCoeff       |       0.0050 |       0.0010 |       0.0100\n",
      "ratioDrip2Unloading       |       0.4000 |       0.0000 |       1.0000\n",
      "canopyWettingFactor       |       0.7000 |       0.0000 |       1.0000\n",
      "canopyWettingExp          |       1.0000 |       0.0000 |       1.0000\n",
      "soil_dens_intr            |    2700.0000 |     500.0000 |    4000.0000\n",
      "thCond_soil               |       5.5000 |       2.9000 |       8.4000\n",
      "frac_sand                 |       0.1600 |       0.0000 |       1.0000\n",
      "frac_silt                 |       0.2800 |       0.0000 |       1.0000\n",
      "frac_clay                 |       0.5600 |       0.0000 |       1.0000\n",
      "fieldCapacity             |       0.2000 |       0.0000 |       1.0000\n",
      "wettingFrontSuction       |       0.3000 |       0.1000 |       1.5000\n",
      "theta_mp                  |       0.4010 |       0.3000 |       0.6000\n",
      "theta_sat                 |       0.5500 |       0.3000 |       0.6000\n",
      "theta_res                 |       0.1390 |       0.0010 |       0.1000\n",
      "vGn_alpha                 |      -8.4d-1 |      -1.0d+0 |      -1.0d-2\n",
      "vGn_n                     |       1.3000 |       1.0000 |       3.0000\n",
      "mpExp                     |       5.0000 |       1.0000 |      10.0000\n",
      "k_soil                    |       7.5d-6 |       1.0d-7 |       1.0d-5\n",
      "k_macropore               |       0.0010 |       1.0d-7 |       1.0d-5\n",
      "kAnisotropic              |       1.0000 |       0.0001 |      10.0000\n",
      "zScale_TOPMODEL           |       2.5000 |       0.1000 |     100.0000\n",
      "compactedDepth            |       1.0000 |       0.0000 |       1.0000\n",
      "aquiferScaleFactor        |       0.3500 |       0.1000 |     100.0000\n",
      "aquiferBaseflowExp        |       2.0000 |       1.0000 |      10.0000\n",
      "aquiferBaseflowRate       |       2.0000 |       1.0000 |      10.0000\n",
      "qSurfScale                |      50.0000 |       1.0000 |     100.0000\n",
      "specificYield             |       0.2000 |       0.1000 |       0.3000\n",
      "specificStorage           |       1.0d-9 |       1.0d-5 |       1.0d-7\n",
      "f_impede                  |       2.0000 |       1.0000 |      10.0000\n",
      "soilIceScale              |       0.1300 |       0.0001 |       1.0000\n",
      "soilIceCV                 |       0.4500 |       0.1000 |       5.0000\n",
      "minwind                   |       0.1000 |       0.0010 |       1.0000\n",
      "minstep                   |       1.0000 |       1.0000 |    1800.0000\n",
      "maxstep                   |    3600.0000 |      60.0000 |    1800.0000\n",
      "wimplicit                 |       0.0000 |       0.0000 |       1.0000\n",
      "maxiter                   |     100.0000 |       1.0000 |     100.0000\n",
      "relConvTol_liquid         |       0.0010 |       1.0d-5 |       0.1000\n",
      "absConvTol_liquid         |       1.0d-5 |       1.0d-8 |       0.0010\n",
      "relConvTol_matric         |       1.0d-6 |       1.0d-5 |       0.1000\n",
      "absConvTol_matric         |       1.0d-6 |       1.0d-8 |       0.0010\n",
      "relConvTol_energy         |       0.0100 |       1.0d-5 |       0.1000\n",
      "absConvTol_energy         |       1.0000 |       0.0100 |      10.0000\n",
      "relConvTol_aquifr         |       1.0000 |       0.0100 |      10.0000\n",
      "absConvTol_aquifr         |       1.0d-5 |       1.0d-5 |       0.1000\n",
      "zmin                      |       0.0100 |       0.0050 |       0.1000\n",
      "zmax                      |       0.0500 |       0.0100 |       0.5000\n",
      "zminLayer1                |       0.0075 |       0.0075 |       0.0075\n",
      "zminLayer2                |       0.0100 |       0.0100 |       0.0100\n",
      "zminLayer3                |     100.0000 |     100.0000 |     100.0000\n",
      "zminLayer4                |     100.0000 |     100.0000 |     100.0000\n",
      "zminLayer5                |     100.0000 |     100.0000 |     100.0000\n",
      "zmaxLayer1_lower          |       0.2500 |       0.2500 |       0.2500\n",
      "zmaxLayer2_lower          |    9000.0000 |    9000.0000 |    9000.0000\n",
      "zmaxLayer3_lower          |    9000.0000 |    9000.0000 |    9000.0000\n",
      "zmaxLayer4_lower          |    9000.0000 |    9000.0000 |    9000.0000\n",
      "zmaxLayer1_upper          |       0.2500 |       0.2500 |       0.2500\n",
      "zmaxLayer2_upper          |    9000.0000 |    9000.0000 |    9000.0000\n",
      "zmaxLayer3_upper          |    9000.0000 |    9000.0000 |    9000.0000\n",
      "zmaxLayer4_upper          |    9000.0000 |    9000.0000 |    9000.0000\n"
     ]
    }
   ],
   "source": [
    "print(s.local_param_info)"
   ]
  },
  {
   "cell_type": "markdown",
   "metadata": {},
   "source": [
    "<br>\n",
    "\n",
    "<br>\n",
    "\n",
    "Yikes, that's pretty long. \n",
    "One thing that's important to know is that only the first value is used by SUMMA.\n",
    "The other two columns of values are supposed to represent reasonable ranges for auto-calibration, but this feature is not yet implemented.\n",
    "For now we can ignore the right two columns.\n",
    "Like the decisions we can change things. See:"
   ]
  },
  {
   "cell_type": "code",
   "execution_count": 7,
   "metadata": {},
   "outputs": [
    {
     "name": "stdout",
     "output_type": "stream",
     "text": [
      "albedoMax                 |       0.9400 |       0.7000 |       0.9500\n",
      "albedoMax                 |       0.7000 |       0.7000 |       0.7000\n"
     ]
    }
   ],
   "source": [
    "# Print it\n",
    "print(s.local_param_info['albedoMax'])\n",
    "\n",
    "# Change the value\n",
    "s.local_param_info['albedoMax'] = 0.7\n",
    "print(s.local_param_info['albedoMax'])"
   ]
  },
  {
   "cell_type": "markdown",
   "metadata": {},
   "source": [
    "<br>\n",
    "\n",
    "### Modifying output\n",
    "And one more, we can also modify what get's written to output. \n",
    "The output control file represents the options available through columns of numeric values.\n",
    "These numbers represent how to write the output. \n",
    "From the SUMMA documentation they are arranged as:\n",
    "\n",
    "```\n",
    "! varName          | outFreq | inst | sum | mean | var | min | max | mode\n",
    "```\n",
    "\n",
    "As before, let's look at what's in the `output_control` by simply printing it out.\n",
    "\n",
    "<br>"
   ]
  },
  {
   "cell_type": "code",
   "execution_count": 8,
   "metadata": {},
   "outputs": [
    {
     "name": "stdout",
     "output_type": "stream",
     "text": [
      "pptrate                              | 1 | 0 | 1 | 0 | 0 | 0 | 0 | 0\n",
      "airtemp                              | 1 | 0 | 1 | 0 | 0 | 0 | 0 | 0\n",
      "scalarRainPlusMelt                   | 1 | 0 | 1 | 0 | 0 | 0 | 0 | 0\n",
      "scalarSWE                            | 1 | 0 | 1 | 0 | 0 | 0 | 0 | 0\n",
      "scalarThroughfallSnow                | 1 | 0 | 1 | 0 | 0 | 0 | 0 | 0\n",
      "scalarThroughfallRain                | 1 | 0 | 1 | 0 | 0 | 0 | 0 | 0\n",
      "scalarSnowSublimation                | 1 | 0 | 1 | 0 | 0 | 0 | 0 | 0\n",
      "scalarInfiltration                   | 1 | 0 | 1 | 0 | 0 | 0 | 0 | 0\n",
      "scalarExfiltration                   | 1 | 0 | 1 | 0 | 0 | 0 | 0 | 0\n",
      "scalarSurfaceRunoff                  | 1 | 0 | 1 | 0 | 0 | 0 | 0 | 0\n",
      "scalarSurfaceTemp                    | 1 | 0 | 1 | 0 | 0 | 0 | 0 | 0\n",
      "scalarSenHeatTotal                   | 1 | 0 | 1 | 0 | 0 | 0 | 0 | 0\n",
      "scalarLatHeatTotal                   | 1 | 0 | 1 | 0 | 0 | 0 | 0 | 0\n",
      "averageInstantRunoff                 | 1 | 0 | 1 | 0 | 0 | 0 | 0 | 0\n",
      "averageRoutedRunoff                  | 1 | 0 | 1 | 0 | 0 | 0 | 0 | 0\n",
      "scalarCanopySublimation              | 1 | 0 | 1 | 0 | 0 | 0 | 0 | 0\n",
      "scalarGroundEvaporation              | 1 | 0 | 1 | 0 | 0 | 0 | 0 | 0\n",
      "scalarCanopyEvaporation              | 1 | 0 | 1 | 0 | 0 | 0 | 0 | 0\n",
      "scalarTotalRunoff                    | 1 | 0 | 1 | 0 | 0 | 0 | 0 | 0\n",
      "scalarSoilBaseflow                   | 1 | 0 | 1 | 0 | 0 | 0 | 0 | 0\n",
      "scalarAquiferBaseflow                | 1 | 0 | 1 | 0 | 0 | 0 | 0 | 0\n",
      "scalarTotalSoilLiq                   | 1 | 0 | 1 | 0 | 0 | 0 | 0 | 0\n",
      "scalarTotalSoilIce                   | 1 | 0 | 1 | 0 | 0 | 0 | 0 | 0\n",
      "scalarCanopyIce                      | 1 | 0 | 1 | 0 | 0 | 0 | 0 | 0\n",
      "scalarCanopyLiq                      | 1 | 0 | 1 | 0 | 0 | 0 | 0 | 0\n",
      "scalarCanopyTemp                     | 1 | 0 | 1 | 0 | 0 | 0 | 0 | 0\n",
      "scalarCanairTemp                     | 1 | 0 | 1 | 0 | 0 | 0 | 0 | 0\n",
      "scalarCanopyTranspiration            | 1 | 0 | 1 | 0 | 0 | 0 | 0 | 0\n",
      "scalarLatHeatGround                  | 1 | 0 | 1 | 0 | 0 | 0 | 0 | 0\n",
      "scalarLatHeatCanopyEvap              | 1 | 0 | 1 | 0 | 0 | 0 | 0 | 0\n",
      "scalarLatHeatCanopyTrans             | 1 | 0 | 1 | 0 | 0 | 0 | 0 | 0\n",
      "scalarLWNetUbound                    | 1 | 0 | 1 | 0 | 0 | 0 | 0 | 0\n",
      "SWRadAtm                             | 1 | 0 | 1 | 0 | 0 | 0 | 0 | 0\n",
      "LWRadAtm                             | 1 | 0 | 1 | 0 | 0 | 0 | 0 | 0\n",
      "scalarCanairNetNrgFlux               | 1 | 0 | 1 | 0 | 0 | 0 | 0 | 0\n",
      "scalarCanopyNetNrgFlux               | 1 | 0 | 1 | 0 | 0 | 0 | 0 | 0\n",
      "scalarGroundNetNrgFlux               | 1 | 0 | 1 | 0 | 0 | 0 | 0 | 0\n",
      "scalarNetRadiation                   | 1 | 0 | 1 | 0 | 0 | 0 | 0 | 0\n",
      "scalarSnowDepth                      | 1 | 0 | 1 | 0 | 0 | 0 | 0 | 0\n",
      "mLayerTemp                           | 1 | 0 | 1 | 0 | 0 | 0 | 0 | 0\n",
      "mLayerDepth                          | 1 | 0 | 1 | 0 | 0 | 0 | 0 | 0\n",
      "iLayerHeight                         | 1 | 0 | 1 | 0 | 0 | 0 | 0 | 0\n",
      "mLayerHeight                         | 1 | 0 | 1 | 0 | 0 | 0 | 0 | 0\n"
     ]
    }
   ],
   "source": [
    "print(s.output_control)"
   ]
  },
  {
   "cell_type": "markdown",
   "metadata": {},
   "source": [
    "<br>\n",
    "\n",
    "Then, we can modify values in a couple of ways.\n",
    "\n",
    "<br>"
   ]
  },
  {
   "cell_type": "code",
   "execution_count": 9,
   "metadata": {},
   "outputs": [
    {
     "name": "stdout",
     "output_type": "stream",
     "text": [
      "scalarNetRadiation                   | 1 | 0 | 1 | 0 | 0 | 0 | 0 | 0\n",
      "scalarNetRadiation                   | 24 | 1 | 0 | 0 | 0 | 0 | 0 | 0\n",
      "scalarNetRadiation                   | 1 | 0 | 1 | 0 | 0 | 0 | 0 | 0\n"
     ]
    }
   ],
   "source": [
    "# Just change the frequency to daily output\n",
    "print(s.output_control['scalarNetRadiation'])\n",
    "\n",
    "# Change the output statistic from hourly instantaneous to daily total\n",
    "s.output_control['scalarNetRadiation'] = [24, 1, 0, 0, 0, 0, 0, 0]\n",
    "print(s.output_control['scalarNetRadiation'])\n",
    "\n",
    "# Change it back\n",
    "s.output_control['scalarNetRadiation'] = [1, 0, 1, 0, 0, 0, 0, 0]\n",
    "print(s.output_control['scalarNetRadiation'])"
   ]
  },
  {
   "cell_type": "markdown",
   "metadata": {},
   "source": [
    "<br>\n",
    "\n",
    "## Running pysumma and manipulating output\n",
    "\n",
    "Now that you've had an overview of how you can interact with SUMMA configurations through pysumma let's run a simulation. \n",
    "Before doing so we will reset our `Simulation` object, which will discard all of the changes we've made and load in a clean setup. \n",
    "Alternatively you could simply instantiate a new `Simulation` object.\n",
    "After running the simulation, we will make sure that it completed successfully by checking the status.\n"
   ]
  },
  {
   "cell_type": "code",
   "execution_count": 10,
   "metadata": {},
   "outputs": [
    {
     "ename": "AssertionError",
     "evalue": "",
     "output_type": "error",
     "traceback": [
      "\u001b[0;31m---------------------------------------------------------------------------\u001b[0m",
      "\u001b[0;31mAssertionError\u001b[0m                            Traceback (most recent call last)",
      "\u001b[0;32m<ipython-input-10-6a86476ba8dd>\u001b[0m in \u001b[0;36m<module>\u001b[0;34m\u001b[0m\n\u001b[1;32m      4\u001b[0m \u001b[0;34m\u001b[0m\u001b[0m\n\u001b[1;32m      5\u001b[0m \u001b[0ms\u001b[0m\u001b[0;34m.\u001b[0m\u001b[0mrun\u001b[0m\u001b[0;34m(\u001b[0m\u001b[0;34m'local'\u001b[0m\u001b[0;34m,\u001b[0m \u001b[0mrun_suffix\u001b[0m\u001b[0;34m=\u001b[0m\u001b[0;34m'_default'\u001b[0m\u001b[0;34m)\u001b[0m\u001b[0;34m\u001b[0m\u001b[0;34m\u001b[0m\u001b[0m\n\u001b[0;32m----> 6\u001b[0;31m \u001b[0;32massert\u001b[0m \u001b[0ms\u001b[0m\u001b[0;34m.\u001b[0m\u001b[0mstatus\u001b[0m \u001b[0;34m==\u001b[0m \u001b[0;34m'Success'\u001b[0m\u001b[0;34m\u001b[0m\u001b[0;34m\u001b[0m\u001b[0m\n\u001b[0m",
      "\u001b[0;31mAssertionError\u001b[0m: "
     ]
    }
   ],
   "source": [
    "s.reset()\n",
    "# Or you could just create a new simulation object like before:\n",
    "#s = ps.Simulation(executable, file_manager)\n",
    "\n",
    "s.run('local', run_suffix='_default')\n",
    "assert s.status == 'Success'"
   ]
  },
  {
   "cell_type": "markdown",
   "metadata": {},
   "source": [
    "<br>\n",
    "\n",
    "You can view the standard output and error of the simulation with the `s.stdout` and `s.stderr` if you ever encounter any issues. They should be `print`'ed to render the newlines correctly. I only print out the last portion here for simplicity. You should see `FORTRAN STOP: finished simulation successfully.` if all is good."
   ]
  },
  {
   "cell_type": "code",
   "execution_count": null,
   "metadata": {},
   "outputs": [],
   "source": [
    "print(s.stdout[-780:])"
   ]
  },
  {
   "cell_type": "markdown",
   "metadata": {},
   "source": [
    "<br>\n",
    "With a complete run, we can look at the output simply by using the simulation's `output` attribute.\n",
    "It is simply an xarray dataset, which can be manipulated in all of the usual ways."
   ]
  },
  {
   "cell_type": "code",
   "execution_count": null,
   "metadata": {},
   "outputs": [],
   "source": [
    "obs = xr.open_dataset('./validation/cues_2011-2019.nc')"
   ]
  },
  {
   "cell_type": "code",
   "execution_count": null,
   "metadata": {},
   "outputs": [],
   "source": [
    "s.output['scalarSWE'].plot(label='SUMMA')\n",
    "obs['swe'].plot(label='Observation')\n",
    "plt.legend()"
   ]
  },
  {
   "cell_type": "code",
   "execution_count": null,
   "metadata": {},
   "outputs": [],
   "source": [
    "(100 * s.output['scalarSnowDepth']).plot(label='SUMMA') # Convert to cm\n",
    "obs['snow_depth'].plot(label='Observation')\n",
    "plt.ylabel('Snow depth [cm]')\n",
    "plt.legend()"
   ]
  },
  {
   "cell_type": "markdown",
   "metadata": {},
   "source": [
    "## Changing the snow layering\n",
    "\n",
    "In this example we will change the snow layering scheme so that only a maximum of 2 layers will ever exist. We do this by making it so that the amount of snow needed to split layers is very large. We will also make sure we are using the `CLM_2010` snow layering scheme.\n",
    "\n",
    "<div class=\"alert alert-block alert-warning\" style=\"background: lemonchiffon; padding: 8px\">\n",
    "<b>Note:</b> \n",
    "    Once you have started the run with `s_2layer.run(...)` the settings chosen will be written to disk. You can restore the default settings by checking out the original setup in git with `git reset --hard`. Alternatively, you may just want to back things up locally.\n",
    "</div>\n"
   ]
  },
  {
   "cell_type": "code",
   "execution_count": null,
   "metadata": {},
   "outputs": [],
   "source": [
    "s_2layer = ps.Simulation(executable, file_manager)\n",
    "s_2layer.decisions['snowLayers']  = 'CLM_2010'"
   ]
  },
  {
   "cell_type": "code",
   "execution_count": null,
   "metadata": {},
   "outputs": [],
   "source": [
    "# No 3rd, 4th, and 5th layers until > 100 meters of snow (AKA never)\n",
    "s_2layer.local_param_info['zminLayer3'] = 100.\n",
    "s_2layer.local_param_info['zminLayer4'] = 100.\n",
    "s_2layer.local_param_info['zminLayer5'] = 100.\n",
    "s_2layer.local_param_info['zmaxLayer2_lower'] = 9000.\n",
    "s_2layer.local_param_info['zmaxLayer3_lower'] = 9000.\n",
    "s_2layer.local_param_info['zmaxLayer4_lower'] = 9000.\n",
    "s_2layer.local_param_info['zmaxLayer2_upper'] = 9000.\n",
    "s_2layer.local_param_info['zmaxLayer3_upper'] = 9000.\n",
    "s_2layer.local_param_info['zmaxLayer4_upper'] = 9000.\n",
    "\n",
    "# Set the top layer to grow to a maximum of 25 cm before the second layer is created\n",
    "s_2layer.local_param_info['zminLayer1'] = 0.0075\n",
    "s_2layer.local_param_info['zmaxLayer1_lower'] = 0.250\n",
    "s_2layer.local_param_info['zmaxLayer1_upper'] = 0.250\n",
    "\n",
    "# If there's no error, the layer parameters are good to go\n",
    "s_2layer.validate_layer_params(s.local_param_info)"
   ]
  },
  {
   "cell_type": "code",
   "execution_count": null,
   "metadata": {},
   "outputs": [],
   "source": [
    "s_2layer.run('local', run_suffix='_2layer')\n",
    "assert s_2layer.status == 'Success'"
   ]
  },
  {
   "cell_type": "code",
   "execution_count": null,
   "metadata": {},
   "outputs": [],
   "source": [
    "s_2layer.output['scalarSWE'].plot(label='SUMMA 2 Layer')\n",
    "s.output['scalarSWE'].plot(label='SUMMA default')\n",
    "obs['swe'].plot(label='Observation')\n",
    "plt.legend()"
   ]
  },
  {
   "cell_type": "markdown",
   "metadata": {},
   "source": [
    "## Some fancy plotting capabilities\n",
    "\n",
    "Now, we see that the above gives different results but we can't quite see that the 2 layer model has only 2 layers.\n",
    "To verify this we can plot the layer temperature through time.\n",
    "We can also do this for the original 5 layer model.\n",
    "To simplify the plots we will select out only a single year."
   ]
  },
  {
   "cell_type": "code",
   "execution_count": null,
   "metadata": {},
   "outputs": [],
   "source": [
    "plot_dates = slice('10-01-2016', '07-30-2017')\n",
    "temp_2l = s_2layer.output['mLayerTemp'].sel(time=plot_dates, hru=1)\n",
    "depth_2l = s_2layer.output['iLayerHeight'].sel(time=plot_dates, hru=1)\n",
    "\n",
    "temp_5l = s.output['mLayerTemp'].sel(time=plot_dates, hru=1)\n",
    "depth_5l = s.output['iLayerHeight'].sel(time=plot_dates, hru=1)"
   ]
  },
  {
   "cell_type": "code",
   "execution_count": null,
   "metadata": {},
   "outputs": [],
   "source": [
    "fig, axes = plt.subplots(2, 1, figsize=(10, 10), sharex=True)\n",
    "\n",
    "axes[0].set_ylabel('Snow depth (m)')\n",
    "axes[0].set_title('2 Layer model')\n",
    "axes[1].set_ylabel('Snow depth (m)')\n",
    "axes[1].set_title('5 Layer model')\n",
    "ps.plotting.layers(temp_2l, depth_2l, ax=axes[0], variable_range=[260, 273])\n",
    "ps.plotting.layers(temp_5l, depth_5l, ax=axes[1], variable_range=[260, 273])\n",
    "plt.tight_layout()"
   ]
  },
  {
   "cell_type": "markdown",
   "metadata": {},
   "source": [
    "# Running ensembles of different decisions and/or parameters\n",
    "It would be cumbersome and time-consuming to create many different simulation objects and run them all separately.\n",
    "To facilitate faster exploration pysumma implements an `Ensemble` class which will manage simulations for you.\n",
    "Before running the ensemble though, let's just reset the status of the repo so that we are back at a 5 layer model.\n",
    "We can do this by re-writing the original simulation's configuration.\n",
    "Alternatively, if you get to a point where things are very messed up, just run `git reset --hard`.\n",
    "Future versions of pysumma will alleviate the need to keep track of this by writing out new configurations for each simulation."
   ]
  },
  {
   "cell_type": "code",
   "execution_count": null,
   "metadata": {},
   "outputs": [],
   "source": [
    "s._write_configuration()"
   ]
  },
  {
   "cell_type": "markdown",
   "metadata": {},
   "source": [
    "Now that we've got that out of the way let's create an ensemble of simulations that try out different values of the albedo decay rate.\n",
    "We will try out 4 values and run each of them in parallel."
   ]
  },
  {
   "cell_type": "code",
   "execution_count": null,
   "metadata": {},
   "outputs": [],
   "source": [
    "decay_rates = {'albedoDecayRate': np.array([1.0e+5, 5.0e+5, 1.0e+6, 5.0e+6])}\n",
    "config = ps.ensemble.parameter_product(decay_rates)\n",
    "param_ens = ps.Ensemble(executable, config, file_manager, num_workers=4)"
   ]
  },
  {
   "cell_type": "markdown",
   "metadata": {},
   "source": [
    "Running this ensemble is similar to running a simulation.\n",
    "Following execution we will loop through each of the underlying simulations to make sure nothing went wrong.\n",
    "A note on the names: the ensemble uses `++` as a delimiter to create unique identifiers for each simulation."
   ]
  },
  {
   "cell_type": "code",
   "execution_count": null,
   "metadata": {},
   "outputs": [],
   "source": [
    "param_ens.run('local')"
   ]
  },
  {
   "cell_type": "code",
   "execution_count": null,
   "metadata": {},
   "outputs": [],
   "source": [
    "for name, sim in param_ens.simulations.items():\n",
    "    print(name, sim.status)"
   ]
  },
  {
   "cell_type": "markdown",
   "metadata": {},
   "source": [
    "If all went well, we will want to collect all of the output files into one nice dataset.\n",
    "Because each of the simulations was written to a separate output file we have to do this via the ensemble object.\n",
    "As you can see, in the merged output there is a new dimension labeled `albedoDecayRate`, which allows us to easily select out and analyze the data.\n",
    "For now, let's just plot the SWE for an arbitrary year for each of the runs to see what happened."
   ]
  },
  {
   "cell_type": "code",
   "execution_count": null,
   "metadata": {},
   "outputs": [],
   "source": [
    "param_ds = param_ens.merge_output()\n",
    "param_ds"
   ]
  },
  {
   "cell_type": "code",
   "execution_count": null,
   "metadata": {},
   "outputs": [],
   "source": [
    "plot_dates = slice('10-01-2015', '07-30-2016')\n",
    "param_ds.sel(time=plot_dates, hru=1, drop=True)['scalarSWE'].plot.line(x='time')"
   ]
  },
  {
   "cell_type": "code",
   "execution_count": null,
   "metadata": {},
   "outputs": [],
   "source": []
  }
 ],
 "metadata": {
  "kernelspec": {
   "display_name": "Python 3",
   "language": "python",
   "name": "python3"
  },
  "language_info": {
   "codemirror_mode": {
    "name": "ipython",
    "version": 3
   },
   "file_extension": ".py",
   "mimetype": "text/x-python",
   "name": "python",
   "nbconvert_exporter": "python",
   "pygments_lexer": "ipython3",
   "version": "3.7.6"
  }
 },
 "nbformat": 4,
 "nbformat_minor": 4
}
